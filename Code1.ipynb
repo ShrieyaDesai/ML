{
  "nbformat": 4,
  "nbformat_minor": 0,
  "metadata": {
    "colab": {
      "provenance": [],
      "authorship_tag": "ABX9TyP4Jgl+zeDJMRF2czeWfjRM",
      "include_colab_link": true
    },
    "kernelspec": {
      "name": "python3",
      "display_name": "Python 3"
    },
    "language_info": {
      "name": "python"
    }
  },
  "cells": [
    {
      "cell_type": "markdown",
      "metadata": {
        "id": "view-in-github",
        "colab_type": "text"
      },
      "source": [
        "<a href=\"https://colab.research.google.com/github/ShrieyaDesai/ML/blob/main/Code1.ipynb\" target=\"_parent\"><img src=\"https://colab.research.google.com/assets/colab-badge.svg\" alt=\"Open In Colab\"/></a>"
      ]
    },
    {
      "cell_type": "code",
      "execution_count": 2,
      "metadata": {
        "id": "Y791YkO4o14N"
      },
      "outputs": [],
      "source": [
        "from sklearn import datasets\n",
        "import pandas as pd"
      ]
    },
    {
      "cell_type": "code",
      "source": [
        "print('THIS IS  THE PROGRAM TO ACCESS  IRIS DATASET')\n",
        "iris=datasets.load_iris()\n",
        "print(\" To print the description of Iris Dataset\")\n",
        "print(iris.DESCR)\n",
        "\n",
        "print('\\n\\n\\n\\n')\n",
        "\n",
        "# df will fold dataset as a table\n",
        "df=pd.DataFrame(\n",
        "   iris.data,\n",
        "   columns=iris.feature_names\n",
        "   )\n",
        "\n",
        "#labels are assigned to df[target] table or array\n",
        "df['target']=pd.Series(\n",
        "    iris.target\n",
        "   )\n",
        "\n",
        "df['target_names']=df['target'].apply(lambda y:iris.target_names[y])\n",
        "\n",
        "print('To display First 5 samples')\n",
        "\n",
        "# df.head(5) will return the first five samples in the dataset\n",
        "print(df.head(5))\n",
        "\n",
        "print('To display randomply 5 samples')\n",
        "#df.sample(5) will return randomly five samples from the dataset\n",
        "print(df.sample(5))"
      ],
      "metadata": {
        "id": "X-pRyqjIqVTW",
        "colab": {
          "base_uri": "https://localhost:8080/"
        },
        "outputId": "ab57f575-7f28-4ef0-fd29-7f660f0ccd98"
      },
      "execution_count": 3,
      "outputs": [
        {
          "output_type": "stream",
          "name": "stdout",
          "text": [
            "THIS IS  THE PROGRAM TO ACCESS  IRIS DATASET\n",
            " To print the description of Iris Dataset\n",
            ".. _iris_dataset:\n",
            "\n",
            "Iris plants dataset\n",
            "--------------------\n",
            "\n",
            "**Data Set Characteristics:**\n",
            "\n",
            ":Number of Instances: 150 (50 in each of three classes)\n",
            ":Number of Attributes: 4 numeric, predictive attributes and the class\n",
            ":Attribute Information:\n",
            "    - sepal length in cm\n",
            "    - sepal width in cm\n",
            "    - petal length in cm\n",
            "    - petal width in cm\n",
            "    - class:\n",
            "            - Iris-Setosa\n",
            "            - Iris-Versicolour\n",
            "            - Iris-Virginica\n",
            "\n",
            ":Summary Statistics:\n",
            "\n",
            "============== ==== ==== ======= ===== ====================\n",
            "                Min  Max   Mean    SD   Class Correlation\n",
            "============== ==== ==== ======= ===== ====================\n",
            "sepal length:   4.3  7.9   5.84   0.83    0.7826\n",
            "sepal width:    2.0  4.4   3.05   0.43   -0.4194\n",
            "petal length:   1.0  6.9   3.76   1.76    0.9490  (high!)\n",
            "petal width:    0.1  2.5   1.20   0.76    0.9565  (high!)\n",
            "============== ==== ==== ======= ===== ====================\n",
            "\n",
            ":Missing Attribute Values: None\n",
            ":Class Distribution: 33.3% for each of 3 classes.\n",
            ":Creator: R.A. Fisher\n",
            ":Donor: Michael Marshall (MARSHALL%PLU@io.arc.nasa.gov)\n",
            ":Date: July, 1988\n",
            "\n",
            "The famous Iris database, first used by Sir R.A. Fisher. The dataset is taken\n",
            "from Fisher's paper. Note that it's the same as in R, but not as in the UCI\n",
            "Machine Learning Repository, which has two wrong data points.\n",
            "\n",
            "This is perhaps the best known database to be found in the\n",
            "pattern recognition literature.  Fisher's paper is a classic in the field and\n",
            "is referenced frequently to this day.  (See Duda & Hart, for example.)  The\n",
            "data set contains 3 classes of 50 instances each, where each class refers to a\n",
            "type of iris plant.  One class is linearly separable from the other 2; the\n",
            "latter are NOT linearly separable from each other.\n",
            "\n",
            ".. dropdown:: References\n",
            "\n",
            "  - Fisher, R.A. \"The use of multiple measurements in taxonomic problems\"\n",
            "    Annual Eugenics, 7, Part II, 179-188 (1936); also in \"Contributions to\n",
            "    Mathematical Statistics\" (John Wiley, NY, 1950).\n",
            "  - Duda, R.O., & Hart, P.E. (1973) Pattern Classification and Scene Analysis.\n",
            "    (Q327.D83) John Wiley & Sons.  ISBN 0-471-22361-1.  See page 218.\n",
            "  - Dasarathy, B.V. (1980) \"Nosing Around the Neighborhood: A New System\n",
            "    Structure and Classification Rule for Recognition in Partially Exposed\n",
            "    Environments\".  IEEE Transactions on Pattern Analysis and Machine\n",
            "    Intelligence, Vol. PAMI-2, No. 1, 67-71.\n",
            "  - Gates, G.W. (1972) \"The Reduced Nearest Neighbor Rule\".  IEEE Transactions\n",
            "    on Information Theory, May 1972, 431-433.\n",
            "  - See also: 1988 MLC Proceedings, 54-64.  Cheeseman et al\"s AUTOCLASS II\n",
            "    conceptual clustering system finds 3 classes in the data.\n",
            "  - Many, many more ...\n",
            "\n",
            "\n",
            "\n",
            "\n",
            "\n",
            "\n",
            "To display First 5 samples\n",
            "   sepal length (cm)  sepal width (cm)  petal length (cm)  petal width (cm)  \\\n",
            "0                5.1               3.5                1.4               0.2   \n",
            "1                4.9               3.0                1.4               0.2   \n",
            "2                4.7               3.2                1.3               0.2   \n",
            "3                4.6               3.1                1.5               0.2   \n",
            "4                5.0               3.6                1.4               0.2   \n",
            "\n",
            "   target target_names  \n",
            "0       0       setosa  \n",
            "1       0       setosa  \n",
            "2       0       setosa  \n",
            "3       0       setosa  \n",
            "4       0       setosa  \n",
            "To display randomply 5 samples\n",
            "    sepal length (cm)  sepal width (cm)  petal length (cm)  petal width (cm)  \\\n",
            "61                5.9               3.0                4.2               1.5   \n",
            "18                5.7               3.8                1.7               0.3   \n",
            "29                4.7               3.2                1.6               0.2   \n",
            "13                4.3               3.0                1.1               0.1   \n",
            "91                6.1               3.0                4.6               1.4   \n",
            "\n",
            "    target target_names  \n",
            "61       1   versicolor  \n",
            "18       0       setosa  \n",
            "29       0       setosa  \n",
            "13       0       setosa  \n",
            "91       1   versicolor  \n"
          ]
        }
      ]
    },
    {
      "cell_type": "code",
      "source": [
        "# Train Test Split Ratio\n",
        "from sklearn.model_selection import train_test_split\n",
        "\n",
        "df_train,df_test=train_test_split(df,test_size=0.3) # For 70: 30 Split\n",
        "\n",
        "print('The total number of samples in the dataset = ',df.shape[0])\n",
        "print('The number of samples  in training set = ',df_train.shape[0])\n",
        "print('The number of samples  in testing set = ',df_test.shape[0])\n",
        "\n",
        "print('The first five samples of training set')\n",
        "print(df_train.head(5))\n",
        "\n",
        "print('\\n\\nThe first five samples of testing set')\n",
        "print(df_test.head(5))\n"
      ],
      "metadata": {
        "id": "KUFiZLtQqarV",
        "colab": {
          "base_uri": "https://localhost:8080/"
        },
        "outputId": "5965cc4e-ec8d-467c-aa5a-2fed34147f59"
      },
      "execution_count": 4,
      "outputs": [
        {
          "output_type": "stream",
          "name": "stdout",
          "text": [
            "The total number of samples in the dataset =  150\n",
            "The number of samples  in training set =  105\n",
            "The number of samples  in testing set =  45\n",
            "The first five samples of training set\n",
            "    sepal length (cm)  sepal width (cm)  petal length (cm)  petal width (cm)  \\\n",
            "35                5.0               3.2                1.2               0.2   \n",
            "45                4.8               3.0                1.4               0.3   \n",
            "82                5.8               2.7                3.9               1.2   \n",
            "17                5.1               3.5                1.4               0.3   \n",
            "33                5.5               4.2                1.4               0.2   \n",
            "\n",
            "    target target_names  \n",
            "35       0       setosa  \n",
            "45       0       setosa  \n",
            "82       1   versicolor  \n",
            "17       0       setosa  \n",
            "33       0       setosa  \n",
            "\n",
            "\n",
            "The first five samples of testing set\n",
            "     sepal length (cm)  sepal width (cm)  petal length (cm)  petal width (cm)  \\\n",
            "5                  5.4               3.9                1.7               0.4   \n",
            "120                6.9               3.2                5.7               2.3   \n",
            "51                 6.4               3.2                4.5               1.5   \n",
            "133                6.3               2.8                5.1               1.5   \n",
            "56                 6.3               3.3                4.7               1.6   \n",
            "\n",
            "     target target_names  \n",
            "5         0       setosa  \n",
            "120       2    virginica  \n",
            "51        1   versicolor  \n",
            "133       2    virginica  \n",
            "56        1   versicolor  \n"
          ]
        }
      ]
    }
  ]
}